{
 "cells": [
  {
   "cell_type": "markdown",
   "metadata": {},
   "source": [
    "# TALLER VISUALIZACIONES"
   ]
  },
  {
   "cell_type": "markdown",
   "metadata": {},
   "source": [
    "## PROGRAMAS PARA HACER CUADROS DE MANDO\n",
    "\n",
    "* Power BI\n",
    "  \n",
    "* Tableau\n",
    "  \n",
    "* Qlik Sense\n",
    "\n",
    "* Looker"
   ]
  },
  {
   "cell_type": "markdown",
   "metadata": {
    "vscode": {
     "languageId": "plaintext"
    }
   },
   "source": [
    "Diagrama de Gartner:\n",
    "\n",
    "![Comparativa](imagenes\\comparativa_2015_2023.PNG)"
   ]
  },
  {
   "cell_type": "markdown",
   "metadata": {},
   "source": [
    "![Comparativa](imagenes\\comparativa_2023.jpg)"
   ]
  },
  {
   "cell_type": "markdown",
   "metadata": {},
   "source": [
    "Hoy vamos a centrarnos fundamentalmente en power BI por ser el mas utilizado y el que mas se solicita en ofertas de trabajo, tambien veremos looker que su punto fuerte es que en gratis a la hora de publicar los cuadros de mando.\n"
   ]
  },
  {
   "cell_type": "markdown",
   "metadata": {},
   "source": [
    "## Power BI\n",
    "\n",
    "Power BI admite varios formatos de entrada, los mas comunes son excel o csv, pero tambien se puede obtener tablas directamente de una pagina web."
   ]
  },
  {
   "cell_type": "markdown",
   "metadata": {},
   "source": [
    "En este primer ejemplo vamos a lo fácil, vamos a cargar un excel llamado \"Ventas_Tecnolandia\" que tenéis en el repositorio.\n",
    "\n",
    "Al cargar el archivo podemos previsualizar la forma en que se van a crear las tablas, por si vemos algun error.\n",
    "\n",
    "Una vez cargado el programa automaticamente establece relaciones si las encuentra, pero hay que revisar SIEMPRE ya que en el caso de que falten las completaremos para que todas las columnas esten relacionadas.\n",
    "\n",
    "\n"
   ]
  },
  {
   "cell_type": "markdown",
   "metadata": {},
   "source": [
    "Ya tenemos cargados los datos, ahora comenzamos con lo que hemos venido a hacer, las visualizaciones.\n",
    "\n",
    "Primero tenemos que saber que tipos de datos y que queremos representar. Teneis en esta misma carpeta un pdf con un esquema en el cual se os ayuda a decidir que tipo de grafico dependiendo del tipo de dato que tenemos.\n",
    "\n",
    "\n",
    "![Graficos](\\imagenes\\graficos.PNG)\n"
   ]
  },
  {
   "cell_type": "markdown",
   "metadata": {},
   "source": [
    "En esta web teneis mas ejemplos de los graficos mas comunes y su uso: \"https://www.storytellingwithdata.com/chart-guide\"\n",
    "\n",
    "Mas graficos: \"https://datavizproject.com/\""
   ]
  },
  {
   "cell_type": "markdown",
   "metadata": {},
   "source": [
    "Despues tendremos que definir una gama de colores, podriamos usar la gama cromatica del logo de la empresa, para eso podemos visitar la web \"https://powerbithemegenerator.bibb.pro/\" siguiendo los colores del logo.\n",
    "\n",
    "Tambien podemos obtener distintas paletas de colores en:\n",
    "\n",
    "* https://color.adobe.com/es/create/color-wheel\n",
    "* https://coolors.co/\n",
    "* https://colorhunt.co/\n",
    "\n",
    "\n",
    "EL logo de la empresa lo podeis encontrar en la carpeta \"imagenes\"\n",
    "\n",
    "![logo](\\imagenes\\logo_Tecnolandia.PNG)"
   ]
  },
  {
   "cell_type": "markdown",
   "metadata": {},
   "source": [
    "### Abrimos ya Power BI y a jugar!"
   ]
  },
  {
   "cell_type": "markdown",
   "metadata": {},
   "source": [
    "Si quereis seguir practicando en esta web teneis muchos ejercicicos con los que poder practicar : \"https://www.wiseowl.co.uk/power-bi/exercises/power-bi-desktop/\""
   ]
  },
  {
   "cell_type": "markdown",
   "metadata": {},
   "source": [
    "## Looker"
   ]
  },
  {
   "cell_type": "markdown",
   "metadata": {},
   "source": [
    "Looker es a Google lo que PowerBI es a Microsoft.\n",
    "\n",
    "Para abrir looker tenemos dos opciones:\n",
    "\n",
    "* Abrir looker directamente y cargar la informacion desde una base de datos (muchas opciones). \"https://lookerstudio.google.com\"\n",
    "\n",
    "* Desde las tablas creadas en Google Cloud Platform haciendo un llamado de Bigquery para juntar las tablas en una tabla que llevaremos a looker para trabajar alli. \"https://cloud.google.com/\""
   ]
  },
  {
   "cell_type": "markdown",
   "metadata": {},
   "source": [
    "Looker aun no es tan completo como PowerBI en cuanto a graficos diferentes pero tiene los graficos mas comunes, y ademas aqui si puedes guardarlo sin coste, por lo que no tienes que pasar un editable"
   ]
  },
  {
   "cell_type": "markdown",
   "metadata": {},
   "source": [
    "Teneis una carpeta que pone \"Datos looker\", para subir a vuestro Bigquery de GCP y poder hacer una llamada de SQL para juntar todas las tablas en una y poder trabajar, el formato de llamada es el siguiente:"
   ]
  },
  {
   "cell_type": "markdown",
   "metadata": {},
   "source": [
    "```python \n",
    "SELECT *\n",
    "FROM `elated-liberty-412010.Taller_Looker_electroMas.Ventas` t1\n",
    "JOIN `elated-liberty-412010.Taller_Looker_electroMas.Ciudades` t2 ON t1.ID_Ciudad = t2.ID_Ciudad\n",
    "JOIN `elated-liberty-412010.Taller_Looker_electroMas.Precios` t3 ON t1.ID_Producto = t3.ID_Producto\n",
    "JOIN `elated-liberty-412010.Taller_Looker_electroMas.Ventas` t4 ON t1.ID_Categoria = t4.ID_Categoria\n",
    "```"
   ]
  },
  {
   "cell_type": "markdown",
   "metadata": {},
   "source": [
    "Si no quereis subir los archivos, podeis copiar y pegar esta llamada de SQL directamente en bigquery"
   ]
  }
 ],
 "metadata": {
  "language_info": {
   "name": "python"
  }
 },
 "nbformat": 4,
 "nbformat_minor": 2
}
