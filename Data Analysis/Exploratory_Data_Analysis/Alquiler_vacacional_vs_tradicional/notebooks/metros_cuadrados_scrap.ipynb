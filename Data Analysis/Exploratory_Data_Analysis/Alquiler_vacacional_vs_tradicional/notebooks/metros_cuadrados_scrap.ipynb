{
 "cells": [
  {
   "cell_type": "code",
   "execution_count": 1,
   "metadata": {},
   "outputs": [],
   "source": [
    "from bs4 import BeautifulSoup as bs\n",
    "from selenium import webdriver\n",
    "from selenium.webdriver.common.by import By\n",
    "from selenium.webdriver.common.keys import Keys\n",
    "\n",
    "import time\n",
    "import pandas as pd"
   ]
  },
  {
   "cell_type": "code",
   "execution_count": 2,
   "metadata": {},
   "outputs": [],
   "source": [
    "driver = webdriver.Chrome()\n",
    "\n",
    "url = \"https://www.abc.es/espana/comunidad-valenciana/abci-superficie-media-vivienda-distritos-valencia-200112030300-63541_noticia.html\"\n",
    "\n",
    "driver.get(url)\n",
    "\n",
    "cookies = driver.find_element(By.XPATH, \"/html/body/div[2]/div/div/div/div/div[2]/button[2]\")\n",
    "cookies.click()\n",
    "# banner = driver.find_element(By.XPATH, \"/html/body/div[1]/div/div/div/div/div/div/div[1]/div/p\")\n",
    "# banner.click()\n",
    "soup = bs(driver.page_source,\"lxml\")"
   ]
  },
  {
   "cell_type": "code",
   "execution_count": 3,
   "metadata": {},
   "outputs": [
    {
     "data": {
      "text/plain": [
       "[<p class=\"voc-p\" style=\"\">-La ciudad de Valencia dispone en la actualidad de una superficie media construida por cada una de las viviendas nuevas de 124,1 metros cuadrados.</p>,\n",
       " <p class=\"voc-p\" style=\"\">-El distrito 17, Pedaníes Nord, es el que presenta una mayor superficie construida en este periodo (165,4 metros cuadrados), debido a la promoción que se ha realizado durante los últimos años en esta zona y que corresponde a unas urbanizaciones de viviendas con unas dimensiones considerables.</p>,\n",
       " <p class=\"voc-p\" style=\"\">-La superficie en metros cuadrados de los distritos de Valencia que de por sí son los que mayor superficie media ofrecen dentro de la Comunidad Valenciana es la siguiente:</p>,\n",
       " <p class=\"voc-p\" style=\"\">-Pedaníes Nord165,4</p>,\n",
       " <p class=\"voc-p\" style=\"\">-Extramurs 137,5</p>,\n",
       " <p class=\"voc-p\" style=\"\">-Patraix 131,7</p>,\n",
       " <p class=\"voc-p\" style=\"\">-Benicalap 130,8</p>,\n",
       " <p class=\"voc-p\" style=\"\">-Camins al Grao129,3</p>,\n",
       " <p class=\"voc-p\" style=\"\">-Ciutat Vella127,6</p>,\n",
       " <p class=\"voc-p\" style=\"\">-Pedaníes Oest 127,1</p>,\n",
       " <p class=\"voc-p\" style=\"\">-Jesús 124,9</p>,\n",
       " <p class=\"voc-p\" style=\"\">-L´Eixample 123,8</p>,\n",
       " <p class=\"voc-p\" style=\"\">-Algirós 121,9</p>,\n",
       " <p class=\"voc-p\" style=\"\">-Rascanya121,6</p>,\n",
       " <p class=\"voc-p\" style=\"\">-Pedaníes Sud 119,8</p>,\n",
       " <p class=\"voc-p\" style=\"\">-Campanar 119,1</p>,\n",
       " <p class=\"voc-p\" style=\"\">-Quatre Carreres 118,4</p>,\n",
       " <p class=\"voc-p\" style=\"\">-Poblats Marítims 115,3</p>,\n",
       " <p class=\"voc-p\" style=\"\">-Olivereta114,2</p>,\n",
       " <p class=\"voc-p\" style=\"\">-Zaidía111,1</p>,\n",
       " <p class=\"voc-p\" style=\"\">-Pla del Real104,4</p>,\n",
       " <p class=\"voc-p\" style=\"\">-Benimaclet87,7</p>]"
      ]
     },
     "execution_count": 3,
     "metadata": {},
     "output_type": "execute_result"
    }
   ],
   "source": [
    "soup.select('div.voc-d p.voc-p')"
   ]
  },
  {
   "cell_type": "code",
   "execution_count": 5,
   "metadata": {},
   "outputs": [
    {
     "data": {
      "text/plain": [
       "['-La ciudad de Valencia dispone en la actualidad de una superficie media construida por cada una de las viviendas nuevas de 124,1 metros cuadrados.',\n",
       " '-El distrito 17, Pedaníes Nord, es el que presenta una mayor superficie construida en este periodo (165,4 metros cuadrados), debido a la promoción que se ha realizado durante los últimos años en esta zona y que corresponde a unas urbanizaciones de viviendas con unas dimensiones considerables.',\n",
       " '-La superficie en metros cuadrados de los distritos de Valencia que de por sí son los que mayor superficie media ofrecen dentro de la Comunidad Valenciana es la siguiente:',\n",
       " '-Pedaníes Nord165,4',\n",
       " '-Extramurs 137,5',\n",
       " '-Patraix 131,7',\n",
       " '-Benicalap 130,8',\n",
       " '-Camins al Grao129,3',\n",
       " '-Ciutat Vella127,6',\n",
       " '-Pedaníes Oest 127,1',\n",
       " '-Jesús 124,9',\n",
       " '-L´Eixample 123,8',\n",
       " '-Algirós 121,9',\n",
       " '-Rascanya121,6',\n",
       " '-Pedaníes Sud 119,8',\n",
       " '-Campanar 119,1',\n",
       " '-Quatre Carreres 118,4',\n",
       " '-Poblats Marítims 115,3',\n",
       " '-Olivereta114,2',\n",
       " '-Zaidía111,1',\n",
       " '-Pla del Real104,4',\n",
       " '-Benimaclet87,7']"
      ]
     },
     "execution_count": 5,
     "metadata": {},
     "output_type": "execute_result"
    }
   ],
   "source": [
    "datos = soup.select('div.voc-d p.voc-p')\n",
    "lista = []\n",
    "for i in datos:\n",
    "    lista.append(i.get_text())\n",
    "\n",
    "lista\n"
   ]
  },
  {
   "cell_type": "code",
   "execution_count": 7,
   "metadata": {},
   "outputs": [
    {
     "data": {
      "text/plain": [
       "['-Pedaníes Nord165,4',\n",
       " '-Extramurs 137,5',\n",
       " '-Patraix 131,7',\n",
       " '-Benicalap 130,8',\n",
       " '-Camins al Grao129,3',\n",
       " '-Ciutat Vella127,6',\n",
       " '-Pedaníes Oest 127,1',\n",
       " '-Jesús 124,9',\n",
       " '-L´Eixample 123,8',\n",
       " '-Algirós 121,9',\n",
       " '-Rascanya121,6',\n",
       " '-Pedaníes Sud 119,8',\n",
       " '-Campanar 119,1',\n",
       " '-Quatre Carreres 118,4',\n",
       " '-Poblats Marítims 115,3',\n",
       " '-Olivereta114,2',\n",
       " '-Zaidía111,1',\n",
       " '-Pla del Real104,4',\n",
       " '-Benimaclet87,7']"
      ]
     },
     "execution_count": 7,
     "metadata": {},
     "output_type": "execute_result"
    }
   ],
   "source": [
    "dist_m = lista[3:]\n",
    "dist_m"
   ]
  },
  {
   "cell_type": "code",
   "execution_count": 14,
   "metadata": {},
   "outputs": [
    {
     "data": {
      "text/plain": [
       "[['-Pedaníes', 'Nord165,4'],\n",
       " ['-Extramurs', '137,5'],\n",
       " ['-Patraix', '131,7'],\n",
       " ['-Benicalap', '130,8'],\n",
       " ['-Camins', 'al', 'Grao129,3'],\n",
       " ['-Ciutat', 'Vella127,6'],\n",
       " ['-Pedaníes', 'Oest', '127,1'],\n",
       " ['-Jesús', '124,9'],\n",
       " ['-L´Eixample', '123,8'],\n",
       " ['-Algirós', '121,9'],\n",
       " ['-Rascanya121,6'],\n",
       " ['-Pedaníes', 'Sud', '119,8'],\n",
       " ['-Campanar', '119,1'],\n",
       " ['-Quatre', 'Carreres', '118,4'],\n",
       " ['-Poblats', 'Marítims', '115,3'],\n",
       " ['-Olivereta114,2'],\n",
       " ['-Zaidía111,1'],\n",
       " ['-Pla', 'del', 'Real104,4'],\n",
       " ['-Benimaclet87,7']]"
      ]
     },
     "execution_count": 14,
     "metadata": {},
     "output_type": "execute_result"
    }
   ],
   "source": [
    "separados=[]\n",
    "distritos =[]\n",
    "superficie =[]\n",
    "for i in dist_m:\n",
    "    separados.append(i.split(' '))\n",
    "separados\n"
   ]
  }
 ],
 "metadata": {
  "kernelspec": {
   "display_name": "scraping_env",
   "language": "python",
   "name": "python3"
  },
  "language_info": {
   "codemirror_mode": {
    "name": "ipython",
    "version": 3
   },
   "file_extension": ".py",
   "mimetype": "text/x-python",
   "name": "python",
   "nbconvert_exporter": "python",
   "pygments_lexer": "ipython3",
   "version": "3.9.18"
  }
 },
 "nbformat": 4,
 "nbformat_minor": 2
}
