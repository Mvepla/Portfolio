{
 "cells": [
  {
   "cell_type": "markdown",
   "metadata": {},
   "source": [
    "![imagen](./img/ejercicios.png)"
   ]
  },
  {
   "cell_type": "markdown",
   "metadata": {},
   "source": [
    "# INFORMACIÓN DEL PROYECTO"
   ]
  },
  {
   "cell_type": "markdown",
   "metadata": {},
   "source": [
    "### TÍTULO"
   ]
  },
  {
   "cell_type": "code",
   "execution_count": null,
   "metadata": {},
   "outputs": [],
   "source": [
    "#Escribe el título del proyecto en Markdown"
   ]
  },
  {
   "cell_type": "markdown",
   "metadata": {},
   "source": [
    "Airbnb vs alquiler tradicional"
   ]
  },
  {
   "cell_type": "markdown",
   "metadata": {},
   "source": [
    "### TEMA"
   ]
  },
  {
   "cell_type": "code",
   "execution_count": null,
   "metadata": {},
   "outputs": [],
   "source": [
    "# Describe brevemente el tema del proyecto en Markdown"
   ]
  },
  {
   "cell_type": "markdown",
   "metadata": {},
   "source": [
    "Un fondo inversor quiere invertir en el parque inmobiliario de la ciudad de Valencia y quiere saber que es mas rentable alquileres de corta ocupacion(airbnb) o larga ocupacion (alquiler tradicional)"
   ]
  },
  {
   "cell_type": "markdown",
   "metadata": {},
   "source": [
    "### HIPÓTESIS"
   ]
  },
  {
   "cell_type": "markdown",
   "metadata": {},
   "source": [
    "Define aquí lo que será la hipótesis de tu proyecto.\n",
    "Puede que tengas más de una, pero tu proyecto lo harás teniendo una principal hipótesis."
   ]
  },
  {
   "cell_type": "code",
   "execution_count": null,
   "metadata": {},
   "outputs": [],
   "source": [
    "# Escribe tu hipótesis principal en Markdown"
   ]
  },
  {
   "cell_type": "markdown",
   "metadata": {},
   "source": [
    "Depende del barrio donde se localice la vivienda conviene mas una cosa u otra"
   ]
  },
  {
   "cell_type": "code",
   "execution_count": null,
   "metadata": {},
   "outputs": [],
   "source": [
    "# Escribe más hipótesis si las hubiera en Markdown"
   ]
  },
  {
   "cell_type": "markdown",
   "metadata": {},
   "source": [
    "## OBTENCIÓN DE LOS DATOS"
   ]
  },
  {
   "cell_type": "markdown",
   "metadata": {},
   "source": [
    "### DATASETS Y FUENTES ALTERNATIVAS DE DATOS"
   ]
  },
  {
   "cell_type": "markdown",
   "metadata": {},
   "source": [
    "Incluye aquí una breve descripción del dataset o datasets de los que partirás para poder evaluar tu hipótesis. <br>\n",
    "También incluye el origen de estos datos y su fuente."
   ]
  },
  {
   "cell_type": "code",
   "execution_count": null,
   "metadata": {},
   "outputs": [],
   "source": [
    "# describe la fuente de tus datos e incluye los links en Markdown"
   ]
  },
  {
   "cell_type": "markdown",
   "metadata": {},
   "source": [
    "web scrapping de la web de airbnb por barrios en dos semanas diferentes y separadas en el tiempo para intentar tener la mayoria de lugares y sacar una media\n",
    "csv precio alquiler vivienda en ciudad de valencia, web ayuntamiento de valencia"
   ]
  },
  {
   "cell_type": "markdown",
   "metadata": {},
   "source": [
    "Muestra mediante un head() los principales datasets con los que vas a trabajar"
   ]
  },
  {
   "cell_type": "code",
   "execution_count": 3,
   "metadata": {},
   "outputs": [
    {
     "data": {
      "text/html": [
       "<div>\n",
       "<style scoped>\n",
       "    .dataframe tbody tr th:only-of-type {\n",
       "        vertical-align: middle;\n",
       "    }\n",
       "\n",
       "    .dataframe tbody tr th {\n",
       "        vertical-align: top;\n",
       "    }\n",
       "\n",
       "    .dataframe thead th {\n",
       "        text-align: right;\n",
       "    }\n",
       "</style>\n",
       "<table border=\"1\" class=\"dataframe\">\n",
       "  <thead>\n",
       "    <tr style=\"text-align: right;\">\n",
       "      <th></th>\n",
       "      <th>DISTRITO</th>\n",
       "      <th>BARRIO</th>\n",
       "      <th>Precio_2022 (Euros/m2)</th>\n",
       "      <th>Precio_2010 (Euros/m2)</th>\n",
       "      <th>Max_historico (Euros/m2)</th>\n",
       "      <th>Año_Max_Hist</th>\n",
       "      <th>CodBar-CodDistrit</th>\n",
       "    </tr>\n",
       "  </thead>\n",
       "  <tbody>\n",
       "    <tr>\n",
       "      <th>0</th>\n",
       "      <td>ALGIRÓS</td>\n",
       "      <td>LA VEGA BAIXA</td>\n",
       "      <td>9.4</td>\n",
       "      <td>6.7</td>\n",
       "      <td>9.4</td>\n",
       "      <td>2022</td>\n",
       "      <td>134</td>\n",
       "    </tr>\n",
       "    <tr>\n",
       "      <th>1</th>\n",
       "      <td>BENIMACLET</td>\n",
       "      <td>BENIMACLET</td>\n",
       "      <td>8.9</td>\n",
       "      <td>6.8</td>\n",
       "      <td>9.4</td>\n",
       "      <td>2022</td>\n",
       "      <td>141</td>\n",
       "    </tr>\n",
       "    <tr>\n",
       "      <th>2</th>\n",
       "      <td>CAMINS AL GRAU</td>\n",
       "      <td>LA CREU DEL GRAU</td>\n",
       "      <td>9.3</td>\n",
       "      <td>6.7</td>\n",
       "      <td>9.7</td>\n",
       "      <td>2019</td>\n",
       "      <td>123</td>\n",
       "    </tr>\n",
       "    <tr>\n",
       "      <th>3</th>\n",
       "      <td>CAMINS AL GRAU</td>\n",
       "      <td>PENYA-ROJA</td>\n",
       "      <td>9.8</td>\n",
       "      <td>6.7</td>\n",
       "      <td>10.0</td>\n",
       "      <td>2021</td>\n",
       "      <td>125</td>\n",
       "    </tr>\n",
       "    <tr>\n",
       "      <th>4</th>\n",
       "      <td>CAMPANAR</td>\n",
       "      <td>CAMPANAR</td>\n",
       "      <td>8.0</td>\n",
       "      <td>9.2</td>\n",
       "      <td>9.5</td>\n",
       "      <td>2018</td>\n",
       "      <td>41</td>\n",
       "    </tr>\n",
       "    <tr>\n",
       "      <th>...</th>\n",
       "      <td>...</td>\n",
       "      <td>...</td>\n",
       "      <td>...</td>\n",
       "      <td>...</td>\n",
       "      <td>...</td>\n",
       "      <td>...</td>\n",
       "      <td>...</td>\n",
       "    </tr>\n",
       "    <tr>\n",
       "      <th>65</th>\n",
       "      <td>LA SAÏDIA</td>\n",
       "      <td>TORMOS</td>\n",
       "      <td>8.4</td>\n",
       "      <td>6.2</td>\n",
       "      <td>8.6</td>\n",
       "      <td>2019</td>\n",
       "      <td>54</td>\n",
       "    </tr>\n",
       "    <tr>\n",
       "      <th>66</th>\n",
       "      <td>PATRAIX</td>\n",
       "      <td>PATRAIX</td>\n",
       "      <td>8.0</td>\n",
       "      <td>6.0</td>\n",
       "      <td>10.0</td>\n",
       "      <td>2021</td>\n",
       "      <td>81</td>\n",
       "    </tr>\n",
       "    <tr>\n",
       "      <th>67</th>\n",
       "      <td>POBLATS MARÍTIMS</td>\n",
       "      <td>BETERO</td>\n",
       "      <td>11.5</td>\n",
       "      <td>6.4</td>\n",
       "      <td>11.5</td>\n",
       "      <td>2022</td>\n",
       "      <td>114</td>\n",
       "    </tr>\n",
       "    <tr>\n",
       "      <th>68</th>\n",
       "      <td>QUATRE CARRERES</td>\n",
       "      <td>LA PUNTA</td>\n",
       "      <td>9.7</td>\n",
       "      <td>7.1</td>\n",
       "      <td>10.5</td>\n",
       "      <td>2021</td>\n",
       "      <td>106</td>\n",
       "    </tr>\n",
       "    <tr>\n",
       "      <th>69</th>\n",
       "      <td>QUATRE CARRERES</td>\n",
       "      <td>MALILLA</td>\n",
       "      <td>8.7</td>\n",
       "      <td>7.1</td>\n",
       "      <td>8.7</td>\n",
       "      <td>2022</td>\n",
       "      <td>103</td>\n",
       "    </tr>\n",
       "  </tbody>\n",
       "</table>\n",
       "<p>70 rows × 7 columns</p>\n",
       "</div>"
      ],
      "text/plain": [
       "            DISTRITO            BARRIO  Precio_2022 (Euros/m2)  \\\n",
       "0            ALGIRÓS     LA VEGA BAIXA                     9.4   \n",
       "1         BENIMACLET        BENIMACLET                     8.9   \n",
       "2     CAMINS AL GRAU  LA CREU DEL GRAU                     9.3   \n",
       "3     CAMINS AL GRAU        PENYA-ROJA                     9.8   \n",
       "4           CAMPANAR          CAMPANAR                     8.0   \n",
       "..               ...               ...                     ...   \n",
       "65         LA SAÏDIA            TORMOS                     8.4   \n",
       "66           PATRAIX           PATRAIX                     8.0   \n",
       "67  POBLATS MARÍTIMS            BETERO                    11.5   \n",
       "68   QUATRE CARRERES          LA PUNTA                     9.7   \n",
       "69   QUATRE CARRERES           MALILLA                     8.7   \n",
       "\n",
       "    Precio_2010 (Euros/m2)  Max_historico (Euros/m2)  Año_Max_Hist  \\\n",
       "0                      6.7                       9.4          2022   \n",
       "1                      6.8                       9.4          2022   \n",
       "2                      6.7                       9.7          2019   \n",
       "3                      6.7                      10.0          2021   \n",
       "4                      9.2                       9.5          2018   \n",
       "..                     ...                       ...           ...   \n",
       "65                     6.2                       8.6          2019   \n",
       "66                     6.0                      10.0          2021   \n",
       "67                     6.4                      11.5          2022   \n",
       "68                     7.1                      10.5          2021   \n",
       "69                     7.1                       8.7          2022   \n",
       "\n",
       "    CodBar-CodDistrit  \n",
       "0                 134  \n",
       "1                 141  \n",
       "2                 123  \n",
       "3                 125  \n",
       "4                  41  \n",
       "..                ...  \n",
       "65                 54  \n",
       "66                 81  \n",
       "67                114  \n",
       "68                106  \n",
       "69                103  \n",
       "\n",
       "[70 rows x 7 columns]"
      ]
     },
     "execution_count": 3,
     "metadata": {},
     "output_type": "execute_result"
    }
   ],
   "source": [
    "# Primer dataset\n",
    "import pandas as pd\n",
    "pd.read_csv(r'C:\\Users\\funny\\Desktop\\Bootcamp\\mesa_trabajo_core\\repo_sept_23\\proyectos\\EDA\\Data\\precio-alquiler-vivienda.csv',sep=';')"
   ]
  },
  {
   "cell_type": "code",
   "execution_count": null,
   "metadata": {},
   "outputs": [],
   "source": [
    "# Siguiente dataset..."
   ]
  },
  {
   "cell_type": "code",
   "execution_count": null,
   "metadata": {},
   "outputs": [],
   "source": []
  }
 ],
 "metadata": {
  "interpreter": {
   "hash": "7c77fdb427e7cbc9bc1367dd530fc2b36aacdbbde1ac83c85833b10dfa8b831c"
  },
  "kernelspec": {
   "display_name": "Python 3.7.4 64-bit",
   "language": "python",
   "name": "python3"
  },
  "language_info": {
   "codemirror_mode": {
    "name": "ipython",
    "version": 3
   },
   "file_extension": ".py",
   "mimetype": "text/x-python",
   "name": "python",
   "nbconvert_exporter": "python",
   "pygments_lexer": "ipython3",
   "version": "3.9.18"
  },
  "orig_nbformat": 4
 },
 "nbformat": 4,
 "nbformat_minor": 2
}
