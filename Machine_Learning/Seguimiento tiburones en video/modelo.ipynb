{
 "cells": [
  {
   "cell_type": "code",
   "execution_count": null,
   "metadata": {},
   "outputs": [],
   "source": [
    "import cv2\n",
    "\n",
    "# Configurar el clasificador de fondo\n",
    "bg_subtractor = cv2.createBackgroundSubtractorMOG2()\n",
    "\n",
    "# Configurar el detector de contornos\n",
    "contour_detector = cv2.SimpleBlobDetector_create()\n",
    "\n",
    "# Abrir el video\n",
    "cap = cv2.VideoCapture(\"video_tiburon_2.mp4\")\n",
    "\n",
    "# Definir una región de interés (ROI)\n",
    "roi = (50, 50, 900, 600)\n",
    "\n",
    "while True:\n",
    "    # Leer un fotograma del video\n",
    "    ret, frame = cap.read()\n",
    "\n",
    "    if not ret:\n",
    "        break\n",
    "\n",
    "    # Aplicar sustracción de fondo solo en la región de interés\n",
    "    fg_mask = bg_subtractor.apply(frame)\n",
    "    fg_mask_roi = fg_mask[roi[1]:roi[1]+roi[3], roi[0]:roi[0]+roi[2]]\n",
    "\n",
    "    # Aplicar umbral para resaltar objetos en movimiento\n",
    "    _, thresh = cv2.threshold(fg_mask_roi, 50, 255, cv2.THRESH_BINARY)\n",
    "\n",
    "    # Encontrar contornos en la imagen umbralizada\n",
    "    contours, _ = cv2.findContours(thresh, cv2.RETR_EXTERNAL, cv2.CHAIN_APPROX_SIMPLE)\n",
    "\n",
    "    # Filtrar contornos por área para eliminar pequeños artefactos\n",
    "    min_contour_area = 500\n",
    "    valid_contours = [cnt for cnt in contours if cv2.contourArea(cnt) > min_contour_area]\n",
    "\n",
    "    # Dibujar cuadrados alrededor de los tiburones\n",
    "    for contour in valid_contours:\n",
    "        x, y, w, h = cv2.boundingRect(contour)\n",
    "        # Ajustar las coordenadas al espacio original\n",
    "        x += roi[0]\n",
    "        y += roi[1]\n",
    "        cv2.rectangle(frame, (x, y), (x + w, y + h), (0, 255, 0), 2)\n",
    "        cv2.putText(frame, \"Tiburon\", (x, y - 10), cv2.FONT_HERSHEY_SIMPLEX, 0.5, (0, 255, 0), 2)\n",
    "\n",
    "    # Mostrar el resultado\n",
    "    cv2.imshow(\"Seguimiento de Tiburones\", frame)\n",
    "\n",
    "    # Salir si se presiona la tecla 'q'\n",
    "    if cv2.waitKey(30) & 0xFF == ord('q'):\n",
    "        break\n",
    "\n",
    "# Liberar los recursos\n",
    "cap.release()\n",
    "cv2.destroyAllWindows()\n"
   ]
  }
 ],
 "metadata": {
  "kernelspec": {
   "display_name": "deepln_env",
   "language": "python",
   "name": "python3"
  },
  "language_info": {
   "name": "python",
   "version": "3.9.18"
  }
 },
 "nbformat": 4,
 "nbformat_minor": 2
}
