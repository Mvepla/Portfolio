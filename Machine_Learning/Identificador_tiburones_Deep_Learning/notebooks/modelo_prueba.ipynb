{
 "cells": [
  {
   "cell_type": "code",
   "execution_count": 49,
   "metadata": {},
   "outputs": [],
   "source": [
    "import numpy as np\n",
    "import pandas as pd\n",
    "import os\n",
    "import matplotlib.pyplot as plt\n",
    "import cv2\n",
    "\n",
    "import tensorflow as tf\n",
    "from tensorflow import keras\n",
    "from tensorflow.keras.preprocessing.image import load_img, img_to_array\n",
    "from tensorflow.keras.applications.inception_v3 import decode_predictions, preprocess_input\n",
    "\n"
   ]
  },
  {
   "cell_type": "markdown",
   "metadata": {},
   "source": [
    "Cargamos el modelo"
   ]
  },
  {
   "cell_type": "code",
   "execution_count": 50,
   "metadata": {},
   "outputs": [],
   "source": [
    "model = tf.keras.models.load_model('my_keras_model.h5')"
   ]
  },
  {
   "cell_type": "markdown",
   "metadata": {},
   "source": [
    "importamos una foto con su etiqueta para predecir\n"
   ]
  },
  {
   "cell_type": "code",
   "execution_count": 94,
   "metadata": {},
   "outputs": [],
   "source": [
    "image_path ='./imagenes_descargadas/00000007.jpg'\n",
    "\n",
    "IMAGE_SIZE = (250,250)"
   ]
  },
  {
   "cell_type": "code",
   "execution_count": 95,
   "metadata": {},
   "outputs": [],
   "source": [
    "img= load_img(image_path, target_size=IMAGE_SIZE)"
   ]
  },
  {
   "cell_type": "code",
   "execution_count": 96,
   "metadata": {},
   "outputs": [],
   "source": [
    "img_array = img_to_array(img)\n",
    "img_array = preprocess_input(img_array)\n",
    "img_array = img_array.reshape((1,) + img_array.shape) "
   ]
  },
  {
   "cell_type": "markdown",
   "metadata": {},
   "source": [
    "Realizamos la prediccion\n"
   ]
  },
  {
   "cell_type": "code",
   "execution_count": 97,
   "metadata": {},
   "outputs": [
    {
     "name": "stdout",
     "output_type": "stream",
     "text": [
      "1/1 [==============================] - 0s 32ms/step\n"
     ]
    }
   ],
   "source": [
    "prediccion = model.predict(img_array)"
   ]
  },
  {
   "cell_type": "markdown",
   "metadata": {},
   "source": [
    "Decodificamos la salida"
   ]
  },
  {
   "cell_type": "code",
   "execution_count": 98,
   "metadata": {},
   "outputs": [
    {
     "name": "stdout",
     "output_type": "stream",
     "text": [
      "Índice de la clase predicha: 12\n"
     ]
    }
   ],
   "source": [
    "clase_predicha = prediccion.argmax(axis=1)[0]\n",
    "print(f'Índice de la clase predicha: {clase_predicha}')"
   ]
  },
  {
   "cell_type": "code",
   "execution_count": 99,
   "metadata": {},
   "outputs": [],
   "source": [
    "nombres_clases= {0:'Tiburon azul o Tintorera (Prionace glauca)',\n",
    "                 1:'Tiburon ballena (Rhincodon typus)',\n",
    "                 2: 'Tiburon blanco (Carcharodon carcharias)',\n",
    "                 3: 'Tiburon lamia (Carcharhinus leucas)',\n",
    "                 4: 'Tiburon limon (Negaprion brevirostris)',\n",
    "                 5:'Tiburon mako o Marrajo (Isurus oxyrinchus)',\n",
    "                 6: 'Tiburon martillo (Sphyrna mokarran)',\n",
    "                 7: 'Tiburon nodriza (Ginglymostoma cirratum)',\n",
    "                 8:'Tiburon peregrino (Cethorhinus maximus)',\n",
    "                 9: 'Tiburon punta blanca oceanico (Carcharhinus longimanus)',\n",
    "                 10: 'Tiburon punta negra (Carcharhinus limbatus)',\n",
    "                 11: 'Tiburon tigre (Galeocerdo cuvier)',\n",
    "                 12: 'Tiburon toro (Carcharias taurus)',\n",
    "                 13: 'Tiburon zorro (Alopias vulpinus)'}"
   ]
  },
  {
   "cell_type": "code",
   "execution_count": 100,
   "metadata": {},
   "outputs": [
    {
     "name": "stdout",
     "output_type": "stream",
     "text": [
      "el tiburon de la foto es: Tiburon toro (Carcharias taurus)\n"
     ]
    }
   ],
   "source": [
    "nombre_clase_predicha = nombres_clases[clase_predicha]\n",
    "print(f'el tiburon de la foto es: {nombre_clase_predicha}')"
   ]
  },
  {
   "cell_type": "code",
   "execution_count": null,
   "metadata": {},
   "outputs": [],
   "source": [
    "def reconoc_foto(imagen):\n",
    "    model = tf.keras.models.load_model('my_keras_model.h5')\n",
    "\n",
    "    imagen = image_path\n",
    "\n",
    "    IMAGE_SIZE = (250,250)\n",
    "\n",
    "    img= load_img(image_path, target_size=IMAGE_SIZE)\n",
    "\n",
    "    img_array = img_to_array(img)\n",
    "    img_array = preprocess_input(img_array)\n",
    "    img_array = img_array.reshape((1,) + img_array.shape) \n",
    "\n",
    "    prediccion = model.predict(img_array)\n",
    "\n",
    "    clase_predicha = prediccion.argmax(axis=1)[0]\n",
    "\n",
    "    nombres_clases= {0:'Tiburon azul o Tintorera (Prionace glauca)',\n",
    "                 1:'Tiburon ballena (Rhincodon typus)',\n",
    "                 2: 'Tiburon blanco (Carcharodon carcharias)',\n",
    "                 3: 'Tiburon lamia (Carcharhinus leucas)',\n",
    "                 4: 'Tiburon limon (Negaprion brevirostris)',\n",
    "                 5:'Tiburon mako o Marrajo (Isurus oxyrinchus)',\n",
    "                 6: 'Tiburon martillo (Sphyrna mokarran)',\n",
    "                 7: 'Tiburon nodriza (Ginglymostoma cirratum)',\n",
    "                 8:'Tiburon peregrino (Cethorhinus maximus)',\n",
    "                 9: 'Tiburon punta blanca oceanico (Carcharhinus longimanus)',\n",
    "                 10: 'Tiburon punta negra (Carcharhinus limbatus)',\n",
    "                 11: 'Tiburon tigre (Galeocerdo cuvier)',\n",
    "                 12: 'Tiburon toro (Carcharias taurus)',\n",
    "                 13: 'Tiburon zorro (Alopias vulpinus)'}\n",
    "    \n",
    "    nombre_clase_predicha = nombres_clases[clase_predicha]\n",
    "\n",
    "    return print(f'el tiburon de la foto es: {nombre_clase_predicha}')"
   ]
  }
 ],
 "metadata": {
  "kernelspec": {
   "display_name": "deepln_env",
   "language": "python",
   "name": "python3"
  },
  "language_info": {
   "codemirror_mode": {
    "name": "ipython",
    "version": 3
   },
   "file_extension": ".py",
   "mimetype": "text/x-python",
   "name": "python",
   "nbconvert_exporter": "python",
   "pygments_lexer": "ipython3",
   "version": "3.9.18"
  }
 },
 "nbformat": 4,
 "nbformat_minor": 2
}
