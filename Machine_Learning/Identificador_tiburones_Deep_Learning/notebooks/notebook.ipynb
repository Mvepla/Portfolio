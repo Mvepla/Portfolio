{
 "cells": [
  {
   "cell_type": "code",
   "execution_count": 1,
   "metadata": {},
   "outputs": [],
   "source": [
    "from bs4 import BeautifulSoup as bs\n",
    "import requests\n",
    "import re\n",
    "import pandas as pd\n",
    "from selenium import webdriver\n",
    "from selenium.webdriver.common.by import By\n",
    "from selenium.webdriver.common.keys import Keys\n",
    "from selenium.webdriver.support.ui import WebDriverWait\n",
    "from selenium.webdriver.support import expected_conditions as EC\n",
    "import time\n",
    "import os"
   ]
  },
  {
   "cell_type": "code",
   "execution_count": 5,
   "metadata": {},
   "outputs": [],
   "source": [
    "driver = webdriver.Chrome()\n",
    "url = \"https://www.shutterstock.com/es/search/whale-shark\"\n",
    "driver.get(url)"
   ]
  },
  {
   "cell_type": "code",
   "execution_count": 6,
   "metadata": {},
   "outputs": [],
   "source": [
    "Cookies = driver.find_element(By.XPATH, \"/html/body/div[2]/div[2]/div/div/div[2]/div/div/button[2]\")\n",
    "Cookies.click()"
   ]
  },
  {
   "cell_type": "code",
   "execution_count": 7,
   "metadata": {},
   "outputs": [
    {
     "ename": "TimeoutException",
     "evalue": "Message: \n",
     "output_type": "error",
     "traceback": [
      "\u001b[1;31m---------------------------------------------------------------------------\u001b[0m",
      "\u001b[1;31mTimeoutException\u001b[0m                          Traceback (most recent call last)",
      "\u001b[1;32mc:\\Users\\funny\\Desktop\\Bootcamp\\mesa_trabajo_core\\repo_sept_23\\proyectos\\ML-2\\notebook.ipynb Cell 4\u001b[0m line \u001b[0;36m3\n\u001b[0;32m     <a href='vscode-notebook-cell:/c%3A/Users/funny/Desktop/Bootcamp/mesa_trabajo_core/repo_sept_23/proyectos/ML-2/notebook.ipynb#W3sZmlsZQ%3D%3D?line=29'>30</a>\u001b[0m descargar_imagenes(imagenes, directorio_destino)\n\u001b[0;32m     <a href='vscode-notebook-cell:/c%3A/Users/funny/Desktop/Bootcamp/mesa_trabajo_core/repo_sept_23/proyectos/ML-2/notebook.ipynb#W3sZmlsZQ%3D%3D?line=31'>32</a>\u001b[0m \u001b[39m# Clic en el botón de siguiente página usando JavaScript\u001b[39;00m\n\u001b[1;32m---> <a href='vscode-notebook-cell:/c%3A/Users/funny/Desktop/Bootcamp/mesa_trabajo_core/repo_sept_23/proyectos/ML-2/notebook.ipynb#W3sZmlsZQ%3D%3D?line=32'>33</a>\u001b[0m boton_siguiente \u001b[39m=\u001b[39m WebDriverWait(driver, \u001b[39m10\u001b[39;49m)\u001b[39m.\u001b[39;49muntil(\n\u001b[0;32m     <a href='vscode-notebook-cell:/c%3A/Users/funny/Desktop/Bootcamp/mesa_trabajo_core/repo_sept_23/proyectos/ML-2/notebook.ipynb#W3sZmlsZQ%3D%3D?line=33'>34</a>\u001b[0m     EC\u001b[39m.\u001b[39;49melement_to_be_clickable((By\u001b[39m.\u001b[39;49mXPATH, \u001b[39m\"\u001b[39;49m\u001b[39m//a[contains(@href, \u001b[39;49m\u001b[39m'\u001b[39;49m\u001b[39m/es/search/\u001b[39;49m\u001b[39m'\u001b[39;49m\u001b[39m) and contains(@href, \u001b[39;49m\u001b[39m'\u001b[39;49m\u001b[39mpage=2\u001b[39;49m\u001b[39m'\u001b[39;49m\u001b[39m)]\u001b[39;49m\u001b[39m\"\u001b[39;49m))\n\u001b[0;32m     <a href='vscode-notebook-cell:/c%3A/Users/funny/Desktop/Bootcamp/mesa_trabajo_core/repo_sept_23/proyectos/ML-2/notebook.ipynb#W3sZmlsZQ%3D%3D?line=34'>35</a>\u001b[0m )\n\u001b[0;32m     <a href='vscode-notebook-cell:/c%3A/Users/funny/Desktop/Bootcamp/mesa_trabajo_core/repo_sept_23/proyectos/ML-2/notebook.ipynb#W3sZmlsZQ%3D%3D?line=35'>36</a>\u001b[0m driver\u001b[39m.\u001b[39mexecute_script(\u001b[39m\"\u001b[39m\u001b[39marguments[0].click();\u001b[39m\u001b[39m\"\u001b[39m, boton_siguiente)\n\u001b[0;32m     <a href='vscode-notebook-cell:/c%3A/Users/funny/Desktop/Bootcamp/mesa_trabajo_core/repo_sept_23/proyectos/ML-2/notebook.ipynb#W3sZmlsZQ%3D%3D?line=37'>38</a>\u001b[0m \u001b[39m# Esperar a que la página cargue (ajusta el tiempo de espera según sea necesario)\u001b[39;00m\n",
      "File \u001b[1;32mc:\\Users\\funny\\anaconda3\\envs\\scraping_env\\lib\\site-packages\\selenium\\webdriver\\support\\wait.py:95\u001b[0m, in \u001b[0;36mWebDriverWait.until\u001b[1;34m(self, method, message)\u001b[0m\n\u001b[0;32m     93\u001b[0m     \u001b[39mif\u001b[39;00m time\u001b[39m.\u001b[39mmonotonic() \u001b[39m>\u001b[39m end_time:\n\u001b[0;32m     94\u001b[0m         \u001b[39mbreak\u001b[39;00m\n\u001b[1;32m---> 95\u001b[0m \u001b[39mraise\u001b[39;00m TimeoutException(message, screen, stacktrace)\n",
      "\u001b[1;31mTimeoutException\u001b[0m: Message: \n"
     ]
    }
   ],
   "source": [
    "# Función para descargar imágenes\n",
    "def descargar_imagenes(imagenes, directorio):\n",
    "    for j, imagen in enumerate(imagenes):\n",
    "        src = imagen.get_attribute('src')\n",
    "        if src and src not in imagenes_descargadas:\n",
    "            imagenes_descargadas.add(src)\n",
    "            response = requests.get(src)\n",
    "            with open(os.path.join(directorio, f'imagen_{i+1}_{j+1}.jpg'), 'wb') as file:\n",
    "                file.write(response.content)\n",
    "\n",
    "# Crear un directorio para almacenar las imágenes\n",
    "directorio_destino = 'imagenes_descargadas'\n",
    "os.makedirs(directorio_destino, exist_ok=True)\n",
    "\n",
    "# Variable para rastrear las imágenes descargadas\n",
    "imagenes_descargadas = set()\n",
    "\n",
    "# Realizar un bucle para simular el scroll y recoger las imágenes\n",
    "for i in range(10):  # Cambia el número de iteraciones según sea necesario\n",
    "    # Scroll hacia abajo\n",
    "    driver.execute_script(\"window.scrollTo(0, document.body.scrollHeight);\")\n",
    "    \n",
    "    # Esperar a que la página cargue las nuevas imágenes\n",
    "    time.sleep(2)  # Ajusta el tiempo de espera según sea necesario\n",
    "\n",
    "    # Obtener todas las imágenes en la página\n",
    "    imagenes = driver.find_elements(By.TAG_NAME, 'img')\n",
    "\n",
    "    # Descargar cada imagen nueva\n",
    "    descargar_imagenes(imagenes, directorio_destino)\n",
    "\n",
    "    # Clic en el botón de siguiente página usando JavaScript\n",
    "    boton_siguiente = WebDriverWait(driver, 10).until(\n",
    "        EC.element_to_be_clickable((By.XPATH, \"//a[contains(@href, '/es/search/') and contains(@href, 'page=2')]\"))\n",
    "    )\n",
    "    driver.execute_script(\"arguments[0].click();\", boton_siguiente)\n",
    "\n",
    "    # Esperar a que la página cargue (ajusta el tiempo de espera según sea necesario)\n",
    "    time.sleep(2)\n",
    "\n",
    "# Cerrar el navegador\n",
    "driver.quit()\n"
   ]
  }
 ],
 "metadata": {
  "kernelspec": {
   "display_name": "scraping_env",
   "language": "python",
   "name": "python3"
  },
  "language_info": {
   "codemirror_mode": {
    "name": "ipython",
    "version": 3
   },
   "file_extension": ".py",
   "mimetype": "text/x-python",
   "name": "python",
   "nbconvert_exporter": "python",
   "pygments_lexer": "ipython3",
   "version": "3.9.18"
  }
 },
 "nbformat": 4,
 "nbformat_minor": 2
}
